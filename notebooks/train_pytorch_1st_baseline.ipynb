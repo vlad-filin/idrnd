{
 "cells": [
  {
   "cell_type": "code",
   "execution_count": 1,
   "metadata": {},
   "outputs": [
    {
     "name": "stderr",
     "output_type": "stream",
     "text": [
      "/home/vfilin/anaconda3/envs/idrnd/lib/python3.6/site-packages/kekas/keker.py:9: UserWarning: Error 'No module named 'apex''' during importing apex library. To use mixed precison you should install it from https://github.com/NVIDIA/apex\n",
      "  warnings.warn(f\"Error '{e}'' during importing apex library. To use mixed precison\"\n"
     ]
    }
   ],
   "source": [
    "import os\n",
    "#os.environ['CUDA_VISIBLE_DEVICES'] = '1'\n",
    "import sys\n",
    "sys.path.insert(0, \"../\")\n",
    "import numpy as np\n",
    "\n",
    "import torch\n",
    "import torch.nn as nn\n",
    "from torch.utils.data import DataLoader\n",
    "from torchvision.models import MobileNetV2\n",
    "\n",
    "from models import ModelWrapper_TorchVisionNet\n",
    "from dataset import VoiceAntiSpoofDataset\n",
    "from utils import read_fromBaseline, read_scipy\n",
    "from Metrics import compute_err\n",
    "#import DftSpectrogram\n",
    "from librosa.feature import mfcc\n",
    "import glob\n",
    "\n",
    "\n",
    "from kekas import Keker, DataOwner\n",
    "from kekas.callbacks import Callback, ProgressBarCallback\n",
    "from kekas.metrics import accuracy\n",
    "\n"
   ]
  },
  {
   "cell_type": "code",
   "execution_count": null,
   "metadata": {},
   "outputs": [],
   "source": []
  },
  {
   "cell_type": "code",
   "execution_count": 2,
   "metadata": {},
   "outputs": [
    {
     "data": {
      "text/plain": [
       "2226438"
      ]
     },
     "execution_count": 2,
     "metadata": {},
     "output_type": "execute_result"
    }
   ],
   "source": [
    "MN2 = MobileNetV2()\n",
    "MN2.classifier[1] = nn.Linear(1280, 2, bias=False)\n",
    "model = ModelWrapper_TorchVisionNet(MN2).to('cuda')\n",
    "sum(p.numel() for p in model.parameters() if p.requires_grad)"
   ]
  },
  {
   "cell_type": "code",
   "execution_count": 9,
   "metadata": {},
   "outputs": [
    {
     "name": "stdout",
     "output_type": "stream",
     "text": [
      "Num samples: 50000\n"
     ]
    }
   ],
   "source": [
    "dataset_dir = '/home/vfilin/Desktop/voice_antispoof_contest/Training_Data/'\n",
    "print(\"Num samples:\", len(glob.glob(os.path.join(dataset_dir, '**/*.wav'), recursive=True)))\n",
    "dataset = VoiceAntiSpoofDataset(dataset_dir, 'all', read_scipy, transform=[lambda x: mfcc(x),  \n",
    "                                lambda x: x[None, ...].astype(np.float32)])\n",
    "dataset_val_dir = '/home/vfilin/Desktop/voice_antispoof_contest/validationASV/'\n",
    "dataset_val = VoiceAntiSpoofDataset(dataset_val_dir, 'all', read_scipy, transform=[lambda x: mfcc(x),  \n",
    "                                lambda x: x[None, ...].astype(np.float32)])\n",
    "batch_size = 24\n",
    "num_workers = 12\n",
    "#dataset.data = dataset.data[:48] \n",
    "#dataset.labels = dataset.labels[:48]\n",
    "#dataset_val.data = dataset_val.data[:48] + dataset_val.data[-24:]\n",
    "#dataset_val.labels = dataset_val.labels[:48] + dataset_val.labels[-24:]\n",
    "dataloader = DataLoader(dataset, batch_size=batch_size, num_workers=num_workers, shuffle=True)\n",
    "val_dl = DataLoader(dataset_val, batch_size=batch_size, num_workers=num_workers, shuffle=False)"
   ]
  },
  {
   "cell_type": "code",
   "execution_count": 10,
   "metadata": {},
   "outputs": [],
   "source": [
    "dataowner = DataOwner(dataloader, val_dl, None)\n",
    "weights = torch.tensor([5, 1.25])\n",
    "weights = weights / weights.sum()\n",
    "weights = weights.to('cuda')\n",
    "criterion = nn.CrossEntropyLoss(weight=weights)"
   ]
  },
  {
   "cell_type": "code",
   "execution_count": 11,
   "metadata": {},
   "outputs": [],
   "source": [
    "def step_fn(model: torch.nn.Module,\n",
    "            batch: torch.Tensor) -> torch.Tensor:\n",
    "    \"\"\"Determine what your model will do with your data.\n",
    "\n",
    "    Args:\n",
    "        model: the pytorch module to pass input in\n",
    "        batch: the batch of data from the DataLoader\n",
    "\n",
    "    Returns:\n",
    "        The models forward pass results\n",
    "    \"\"\"\n",
    "    \n",
    "    voice = batch['data']\n",
    "    return model(voice)\n",
    "class ScoreCallback(Callback):\n",
    "    def __init__(self, preds_key, target_key, metric_fn):\n",
    "\n",
    "        self.preds_key = preds_key\n",
    "        self.target_key = target_key\n",
    "        self.human_probs_for_human = []\n",
    "        self.human_probs_for_spoof = []\n",
    "        self.metric_fn = metric_fn\n",
    "        \n",
    "    def on_batch_end(self, i, state) -> None:\n",
    "        if state.core.mode == \"val\":\n",
    "            preds = state.core.out[self.preds_key].cpu().numpy()\n",
    "            targets = state.core.batch[self.target_key].cpu().numpy()\n",
    "            tmp = preds[targets == 0, 0]\n",
    "            if len(tmp) > 0:\n",
    "                self.human_probs_for_human.append(tmp)\n",
    "            tmp = preds[targets == 1, 0]\n",
    "            if len(tmp) > 0:\n",
    "                self.human_probs_for_spoof.append(tmp)\n",
    "    \n",
    "    def on_epoch_end(self, epoch, state) -> None:\n",
    "        if state.core.mode == \"val\":\n",
    "            print(\"_\"*50)\n",
    "            print(\"Metric computation\")\n",
    "            self.human_probs_for_human = np.hstack(self.human_probs_for_human)\n",
    "            self.human_probs_for_spoof = np.hstack(self.human_probs_for_spoof)\n",
    "            eer, threshold = self.metric_fn(self.human_probs_for_human, self.human_probs_for_spoof)\n",
    "            self.human_probs_for_human = []\n",
    "            self.human_probs_for_spoof = []\n",
    "            print('score 1 (eer): {0:.7f} threshold (?): {1:.4f}'.format(\n",
    "                eer, threshold))\n"
   ]
  },
  {
   "cell_type": "code",
   "execution_count": 12,
   "metadata": {},
   "outputs": [],
   "source": [
    "keker = Keker(model=model,\n",
    "              dataowner=dataowner,\n",
    "              criterion=criterion,\n",
    "              step_fn=step_fn,                    # previosly defined step function\n",
    "              target_key=\"label\",                 # remember, we defined it in the reader_fn for DataKek? \n",
    "              opt=torch.optim.Adam,               # optimizer class. if note specifiyng, \n",
    "                                                  # an SGD is using by default\n",
    "              opt_params={\"weight_decay\": 1e-5},\n",
    "              callbacks=[ScoreCallback('preds', 'label', compute_err)],\n",
    "                 metrics={\"acc\": accuracy})"
   ]
  },
  {
   "cell_type": "code",
   "execution_count": null,
   "metadata": {},
   "outputs": [
    {
     "name": "stdout",
     "output_type": "stream",
     "text": [
      "Epoch 1/25:  76% 1919/2514 [07:29<02:26,  4.06it/s, loss=0.6778]"
     ]
    }
   ],
   "source": [
    "keker.kek(lr=1e-3,\n",
    "          epochs=25,\n",
    "          sched=torch.optim.lr_scheduler.MultiStepLR,       # pytorch lr scheduler class\n",
    "          sched_params={\"milestones\":torch.tensor([12, 20]), \"gamma\": 0.1,},\n",
    "         cp_saver_params={\n",
    "              \"savedir\": \"./checkpoints\",\n",
    "         \"metric\":\"acc\"})  # schedulres kwargas in dict format"
   ]
  },
  {
   "cell_type": "code",
   "execution_count": null,
   "metadata": {},
   "outputs": [],
   "source": []
  }
 ],
 "metadata": {
  "kernelspec": {
   "display_name": "Python 3",
   "language": "python",
   "name": "python3"
  },
  "language_info": {
   "codemirror_mode": {
    "name": "ipython",
    "version": 3
   },
   "file_extension": ".py",
   "mimetype": "text/x-python",
   "name": "python",
   "nbconvert_exporter": "python",
   "pygments_lexer": "ipython3",
   "version": "3.6.8"
  }
 },
 "nbformat": 4,
 "nbformat_minor": 2
}
