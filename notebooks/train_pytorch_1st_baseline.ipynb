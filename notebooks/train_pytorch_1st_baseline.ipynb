{
 "cells": [
  {
   "cell_type": "code",
   "execution_count": 8,
   "metadata": {},
   "outputs": [
    {
     "name": "stderr",
     "output_type": "stream",
     "text": [
      "Using TensorFlow backend.\n"
     ]
    }
   ],
   "source": [
    "import sys\n",
    "sys.path.insert(0, \"../\")\n",
    "\n",
    "import os\n",
    "import numpy as np\n",
    "import pandas as pd\n",
    "\n",
    "from os.path import join\n",
    "import matplotlib.pyplot as plt\n",
    "from tqdm import tqdm_notebook as tqdm\n",
    "\n",
    "import torch\n",
    "import torch.nn as nn\n",
    "from torch.utils.data import DataLoader\n",
    "\n",
    "from models import ModelWrapper_TorchVisionNet\n",
    "from dataset import VoiceAntiSpoofDataset\n",
    "from utils import read_fromBaseline\n",
    "import DftSpectrogram\n",
    "import Metrics\n",
    "\n",
    "\n",
    "from kekas import Keker, DataOwner\n",
    "from kekas.callbacks import Callback\n",
    "\n"
   ]
  },
  {
   "cell_type": "code",
   "execution_count": 7,
   "metadata": {},
   "outputs": [],
   "source": [
    "dataset_dir = '/home/vfilin/Desktop/voice_antispoof_contest/Training_Data/'\n",
    "dft_conf = {\"length\": 512,\n",
    "            \"shift\": 256,\n",
    "            \"nfft\": 512,\n",
    "            \"mode\": 'log',\n",
    "            \"normalize_feature\": True}\n",
    "\n"
   ]
  },
  {
   "cell_type": "code",
   "execution_count": null,
   "metadata": {},
   "outputs": [],
   "source": []
  }
 ],
 "metadata": {
  "kernelspec": {
   "display_name": "Python 3",
   "language": "python",
   "name": "python3"
  },
  "language_info": {
   "codemirror_mode": {
    "name": "ipython",
    "version": 3
   },
   "file_extension": ".py",
   "mimetype": "text/x-python",
   "name": "python",
   "nbconvert_exporter": "python",
   "pygments_lexer": "ipython3",
   "version": "3.6.8"
  }
 },
 "nbformat": 4,
 "nbformat_minor": 2
}
