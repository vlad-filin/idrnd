{
 "cells": [
  {
   "cell_type": "code",
   "execution_count": 1,
   "metadata": {},
   "outputs": [
    {
     "name": "stderr",
     "output_type": "stream",
     "text": [
      "/home/vfilin/anaconda3/envs/idrnd/lib/python3.6/site-packages/kekas/keker.py:9: UserWarning: Error 'No module named 'apex''' during importing apex library. To use mixed precison you should install it from https://github.com/NVIDIA/apex\n",
      "  warnings.warn(f\"Error '{e}'' during importing apex library. To use mixed precison\"\n"
     ]
    }
   ],
   "source": [
    "import os\n",
    "#os.environ['CUDA_VISIBLE_DEVICES'] = '1'\n",
    "import sys\n",
    "sys.path.insert(0, \"../\")\n",
    "import numpy as np\n",
    "\n",
    "import torch\n",
    "import torch.nn as nn\n",
    "from torch.utils.data import DataLoader\n",
    "from torchvision.models import MobileNetV2\n",
    "from importlib import reload\n",
    "import dataset\n",
    "reload(dataset)\n",
    "from models import ModelWrapper_TorchVisionNet\n",
    "from dataset import VoiceAntiSpoofDataset\n",
    "from utils import read_fromBaseline, read_scipy\n",
    "from Metrics import compute_err\n",
    "\n",
    "#import DftSpectrogram\n",
    "from librosa.feature import mfcc\n",
    "import glob\n",
    "\n",
    "\n",
    "from kekas import Keker, DataOwner\n",
    "from kekas.callbacks import Callback, ProgressBarCallback\n",
    "from kekas.metrics import accuracy\n",
    "\n"
   ]
  },
  {
   "cell_type": "code",
   "execution_count": 2,
   "metadata": {},
   "outputs": [
    {
     "data": {
      "text/plain": [
       "2226438"
      ]
     },
     "execution_count": 2,
     "metadata": {},
     "output_type": "execute_result"
    }
   ],
   "source": [
    "MN2 = MobileNetV2()\n",
    "MN2.classifier[1] = nn.Linear(1280, 2, bias=False)\n",
    "model = ModelWrapper_TorchVisionNet(MN2).to('cuda')\n",
    "sum(p.numel() for p in model.parameters() if p.requires_grad)"
   ]
  },
  {
   "cell_type": "code",
   "execution_count": 3,
   "metadata": {},
   "outputs": [
    {
     "name": "stdout",
     "output_type": "stream",
     "text": [
      "Num samples: 50000\n",
      "10322 qq\n",
      "39678 qqq\n",
      "1507 qq\n",
      "1507 qqq\n"
     ]
    },
    {
     "data": {
      "text/plain": [
       "(50000, 3014, 50000)"
      ]
     },
     "execution_count": 3,
     "metadata": {},
     "output_type": "execute_result"
    }
   ],
   "source": [
    "dataset_dir = '/home/vfilin/Desktop/voice_as_contest/Training_Data/'\n",
    "print(\"Num samples:\", len(glob.glob(os.path.join(dataset_dir, '**/*.wav'), recursive=True)))\n",
    "dataset = VoiceAntiSpoofDataset(dataset_dir, 'all', read_scipy, transform=[lambda x: mfcc(x),  \n",
    "                                lambda x: x[None, ...].astype(np.float32)])\n",
    "dataset_val_dir = '/home/vfilin/Desktop/voice_as_contest/validationASV/'\n",
    "dataset_val = VoiceAntiSpoofDataset(dataset_val_dir, 'all', read_scipy, transform=[lambda x: mfcc(x),  \n",
    "                                lambda x: x[None, ...].astype(np.float32)])\n",
    "batch_size = 24\n",
    "num_workers = 12\n",
    "#dataset.data = dataset.data[:48] \n",
    "#dataset.labels = dataset.labels[:48]\n",
    "#dataset_val.data = dataset_val.data[:48] + dataset_val.data[-24:]\n",
    "#dataset_val.labels = dataset_val.labels[:48] + dataset_val.labels[-24:]\n",
    "dataloader = DataLoader(dataset, batch_size=batch_size, num_workers=num_workers, shuffle=True)\n",
    "val_dl = DataLoader(dataset_val, batch_size=batch_size, num_workers=num_workers, shuffle=False)\n",
    "len(dataset), len(dataset_val), len(np.unique(dataset.data))"
   ]
  },
  {
   "cell_type": "code",
   "execution_count": 4,
   "metadata": {},
   "outputs": [],
   "source": [
    "dataowner = DataOwner(dataloader, val_dl, None)\n",
    "weights = torch.tensor([5, 1.25])\n",
    "weights = weights / weights.sum()\n",
    "weights = weights.to('cuda')\n",
    "criterion = nn.CrossEntropyLoss(weight=weights)"
   ]
  },
  {
   "cell_type": "code",
   "execution_count": 12,
   "metadata": {},
   "outputs": [],
   "source": [
    "def step_fn(model: torch.nn.Module,\n",
    "            batch: torch.Tensor) -> torch.Tensor:\n",
    "    \"\"\"Determine what your model will do with your data.\n",
    "\n",
    "    Args:\n",
    "        model: the pytorch module to pass input in\n",
    "        batch: the batch of data from the DataLoader\n",
    "\n",
    "    Returns:\n",
    "        The models forward pass results\n",
    "    \"\"\"\n",
    "    \n",
    "    voice = batch['data']\n",
    "    return model(voice)\n",
    "class ScoreCallback(Callback):\n",
    "    def __init__(self, preds_key, target_key, metric_fn):\n",
    "\n",
    "        self.preds_key = preds_key\n",
    "        self.target_key = target_key\n",
    "        self.human_probs_for_human = []\n",
    "        self.human_probs_for_spoof = []\n",
    "        self.softmax = nn.Softmax(dim=1)\n",
    "        self.metric_fn = metric_fn\n",
    "        \n",
    "    def on_batch_end(self, i, state) -> None:\n",
    "        if state.core.mode == \"val\":\n",
    "            preds = state.core.out[self.preds_key]\n",
    "            preds = self.softmax(preds).cpu().numpy()\n",
    "            targets = state.core.batch[self.target_key].cpu().numpy()\n",
    "            tmp = preds[targets == 0, 0]\n",
    "            if len(tmp) > 0:\n",
    "                self.human_probs_for_human.append(tmp)\n",
    "            tmp = preds[targets == 1, 0]\n",
    "            if len(tmp) > 0:\n",
    "                self.human_probs_for_spoof.append(tmp)\n",
    "    \n",
    "    def on_epoch_end(self, epoch, state) -> None:\n",
    "        if state.core.mode == \"val\":\n",
    "            print(\"_\"*50)\n",
    "            print(\"Metric computation\")\n",
    "            self.human_probs_for_human = np.hstack(self.human_probs_for_human)\n",
    "            self.human_probs_for_spoof = np.hstack(self.human_probs_for_spoof)\n",
    "            eer, threshold = self.metric_fn(self.human_probs_for_human, self.human_probs_for_spoof)\n",
    "            self.human_probs_for_human = []\n",
    "            self.human_probs_for_spoof = []\n",
    "            print('score 1 (eer): {0:.7f} threshold (?): {1:.4f}'.format(\n",
    "                eer, threshold))\n"
   ]
  },
  {
   "cell_type": "code",
   "execution_count": 13,
   "metadata": {},
   "outputs": [],
   "source": [
    "keker = Keker(model=model,\n",
    "              dataowner=dataowner,\n",
    "              criterion=criterion,\n",
    "              step_fn=step_fn,                    # previosly defined step function\n",
    "              target_key=\"label\",                 # remember, we defined it in the reader_fn for DataKek? \n",
    "              opt=torch.optim.Adam,               # optimizer class. if note specifiyng, \n",
    "                                                  # an SGD is using by default\n",
    "              opt_params={\"weight_decay\": 1e-5},\n",
    "              callbacks=[ScoreCallback('preds', 'label', compute_err)],\n",
    "                 metrics={\"acc\": accuracy})"
   ]
  },
  {
   "cell_type": "code",
   "execution_count": 14,
   "metadata": {},
   "outputs": [
    {
     "name": "stdout",
     "output_type": "stream",
     "text": [
      "Epoch 1/25: 100% 2083/2084 [07:29<00:00,  7.50it/s, loss=0.2698]__________________________________________________\n",
      "Metric computation\n",
      "score 1 (eer): 18.0491042 threshold (?): 0.3863\n",
      "Epoch 1/25: 100% 2084/2084 [07:54<00:00,  4.39it/s, loss=0.2698, val_loss=0.4317, acc=0.8282]\n",
      "Epoch 2/25: 100% 2083/2084 [07:31<00:00,  7.43it/s, loss=0.1880]__________________________________________________\n",
      "Metric computation\n",
      "score 1 (eer): 21.6323822 threshold (?): 0.2845\n",
      "Epoch 2/25: 100% 2084/2084 [07:57<00:00,  4.37it/s, loss=0.1880, val_loss=0.5258, acc=0.7789]\n",
      "Epoch 3/25: 100% 2083/2084 [07:27<00:00,  7.32it/s, loss=0.1937]__________________________________________________\n",
      "Metric computation\n",
      "score 1 (eer): 21.4996682 threshold (?): 0.5062\n",
      "Epoch 3/25: 100% 2084/2084 [07:52<00:00,  4.41it/s, loss=0.1937, val_loss=0.6064, acc=0.7846]\n",
      "Epoch 4/25: 100% 2083/2084 [07:32<00:00,  7.36it/s, loss=0.1125]__________________________________________________\n",
      "Metric computation\n",
      "score 1 (eer): 16.5228932 threshold (?): 0.5702\n",
      "Epoch 4/25: 100% 2084/2084 [07:57<00:00,  4.37it/s, loss=0.1125, val_loss=0.4623, acc=0.8338]\n",
      "Epoch 5/25: 100% 2083/2084 [07:29<00:00,  7.23it/s, loss=0.1269]__________________________________________________\n",
      "Metric computation\n",
      "score 1 (eer): 28.7989383 threshold (?): 0.6239\n",
      "Epoch 5/25: 100% 2084/2084 [07:54<00:00,  4.39it/s, loss=0.1269, val_loss=0.7743, acc=0.7083]\n",
      "Epoch 6/25: 100% 2083/2084 [07:35<00:00,  7.63it/s, loss=0.1369]__________________________________________________\n",
      "Metric computation\n",
      "score 1 (eer): 15.3948242 threshold (?): 0.2650\n",
      "Epoch 6/25: 100% 2084/2084 [07:59<00:00,  4.34it/s, loss=0.1369, val_loss=0.4437, acc=0.8367]\n",
      "Epoch 7/25: 100% 2083/2084 [07:36<00:00,  7.31it/s, loss=0.1630]__________________________________________________\n",
      "Metric computation\n",
      "score 1 (eer): 17.4518912 threshold (?): 0.3631\n",
      "Epoch 7/25: 100% 2084/2084 [08:01<00:00,  4.33it/s, loss=0.1630, val_loss=0.4559, acc=0.8246]\n",
      "Epoch 8/25: 100% 2083/2084 [07:30<00:00,  7.48it/s, loss=0.0678]__________________________________________________\n",
      "Metric computation\n",
      "score 1 (eer): 17.5846052 threshold (?): 0.2730\n",
      "Epoch 8/25: 100% 2084/2084 [07:54<00:00,  4.39it/s, loss=0.0678, val_loss=0.4788, acc=0.8259]\n",
      "Epoch 9/25: 100% 2083/2084 [07:31<00:00,  7.20it/s, loss=0.0621]__________________________________________________\n",
      "Metric computation\n",
      "score 1 (eer): 17.9827472 threshold (?): 0.5479\n",
      "Epoch 9/25: 100% 2084/2084 [07:56<00:00,  4.38it/s, loss=0.0621, val_loss=0.4616, acc=0.8142]\n",
      "Epoch 10/25: 100% 2083/2084 [07:40<00:00,  7.23it/s, loss=0.0621]__________________________________________________\n",
      "Metric computation\n",
      "score 1 (eer): 21.4333112 threshold (?): 0.3190\n",
      "Epoch 10/25: 100% 2084/2084 [08:05<00:00,  4.29it/s, loss=0.0621, val_loss=0.6117, acc=0.7858]\n",
      "Epoch 11/25: 100% 2083/2084 [07:42<00:00,  7.20it/s, loss=0.1540]__________________________________________________\n",
      "Metric computation\n",
      "score 1 (eer): 27.4717983 threshold (?): 0.7057\n",
      "Epoch 11/25: 100% 2084/2084 [08:07<00:00,  4.28it/s, loss=0.1540, val_loss=0.8437, acc=0.7268]\n",
      "Epoch 12/25: 100% 2083/2084 [07:45<00:00,  7.21it/s, loss=0.0735]__________________________________________________\n",
      "Metric computation\n",
      "score 1 (eer): 17.7173192 threshold (?): 0.6173\n",
      "Epoch 12/25: 100% 2084/2084 [08:09<00:00,  4.25it/s, loss=0.0735, val_loss=0.5243, acc=0.8155]\n",
      "Epoch 13/25: 100% 2083/2084 [07:39<00:00,  7.47it/s, loss=0.0537]__________________________________________________\n",
      "Metric computation\n",
      "score 1 (eer): 20.8360982 threshold (?): 0.3886\n",
      "Epoch 13/25: 100% 2084/2084 [08:03<00:00,  4.31it/s, loss=0.0537, val_loss=0.6589, acc=0.7892]\n",
      "Epoch 14/25: 100% 2083/2084 [07:41<00:00,  7.49it/s, loss=0.0621]__________________________________________________\n",
      "Metric computation\n",
      "score 1 (eer): 12.3424021 threshold (?): 0.2405\n",
      "Epoch 14/25: 100% 2084/2084 [08:05<00:00,  4.29it/s, loss=0.0621, val_loss=0.4202, acc=0.8668]\n",
      "Epoch 15/25: 100% 2083/2084 [07:31<00:00,  7.45it/s, loss=0.0594]__________________________________________________\n",
      "Metric computation\n",
      "score 1 (eer): 13.2050431 threshold (?): 0.3813\n",
      "Epoch 15/25: 100% 2084/2084 [07:55<00:00,  4.39it/s, loss=0.0594, val_loss=0.4164, acc=0.8603]\n",
      "Epoch 16/25: 100% 2083/2084 [07:52<00:00,  7.19it/s, loss=0.0442]__________________________________________________\n",
      "Metric computation\n",
      "score 1 (eer): 11.4797611 threshold (?): 0.0672\n",
      "Epoch 16/25: 100% 2084/2084 [08:16<00:00,  4.19it/s, loss=0.0442, val_loss=0.4729, acc=0.8513]\n",
      "Epoch 17/25: 100% 2083/2084 [08:08<00:00,  7.14it/s, loss=0.0503]__________________________________________________\n",
      "Metric computation\n",
      "score 1 (eer): 20.6370272 threshold (?): 0.1810\n",
      "Epoch 17/25: 100% 2084/2084 [08:39<00:00,  4.02it/s, loss=0.0503, val_loss=0.7626, acc=0.7825]\n",
      "Epoch 18/25: 100% 2083/2084 [08:06<00:00,  6.48it/s, loss=0.0224]__________________________________________________\n",
      "Metric computation\n",
      "score 1 (eer): 16.3901792 threshold (?): 0.4481\n",
      "Epoch 18/25: 100% 2084/2084 [08:37<00:00,  4.03it/s, loss=0.0224, val_loss=0.5714, acc=0.8357]\n",
      "Epoch 19/25: 100% 2083/2084 [08:44<00:00,  7.21it/s, loss=0.0369]__________________________________________________\n",
      "Metric computation\n",
      "score 1 (eer): 18.5136032 threshold (?): 0.0886\n",
      "Epoch 19/25: 100% 2084/2084 [09:10<00:00,  3.79it/s, loss=0.0369, val_loss=0.7666, acc=0.8057]\n",
      "Epoch 20/25: 100% 2083/2084 [08:18<00:00,  7.15it/s, loss=0.0552]__________________________________________________\n",
      "Metric computation\n",
      "score 1 (eer): 16.8546782 threshold (?): 0.0181\n",
      "Epoch 20/25: 100% 2084/2084 [08:43<00:00,  3.98it/s, loss=0.0552, val_loss=0.8843, acc=0.8096]\n",
      "Epoch 21/25: 100% 2083/2084 [07:56<00:00,  7.22it/s, loss=0.0446]__________________________________________________\n",
      "Metric computation\n",
      "score 1 (eer): 18.6463172 threshold (?): 0.0743\n",
      "Epoch 21/25: 100% 2084/2084 [08:21<00:00,  4.15it/s, loss=0.0446, val_loss=0.8009, acc=0.7985]\n",
      "Epoch 22/25: 100% 2083/2084 [08:01<00:00,  6.99it/s, loss=0.0312]__________________________________________________\n",
      "Metric computation\n",
      "score 1 (eer): 21.3669542 threshold (?): 0.2889\n",
      "Epoch 22/25: 100% 2084/2084 [08:28<00:00,  4.10it/s, loss=0.0312, val_loss=0.8673, acc=0.7823]\n",
      "Epoch 23/25: 100% 2083/2084 [09:15<00:00,  7.26it/s, loss=0.0193]__________________________________________________\n",
      "Metric computation\n",
      "score 1 (eer): 19.5753152 threshold (?): 0.0468\n",
      "Epoch 23/25: 100% 2084/2084 [09:44<00:00,  3.57it/s, loss=0.0193, val_loss=0.9217, acc=0.7832]\n",
      "Epoch 24/25: 100% 2083/2084 [08:03<00:00,  7.21it/s, loss=0.0314]__________________________________________________\n",
      "Metric computation\n",
      "score 1 (eer): 26.6755143 threshold (?): 0.1933\n",
      "Epoch 24/25: 100% 2084/2084 [08:29<00:00,  4.09it/s, loss=0.0314, val_loss=1.2169, acc=0.7168]\n",
      "Epoch 25/25: 100% 2083/2084 [08:09<00:00,  7.21it/s, loss=0.0120]__________________________________________________\n",
      "Metric computation\n",
      "score 1 (eer): 22.3623092 threshold (?): 0.0739\n",
      "Epoch 25/25: 100% 2084/2084 [08:35<00:00,  4.04it/s, loss=0.0120, val_loss=1.0057, acc=0.7458]\n",
      "\n",
      "Checkpoint\tacc\n",
      "checkpoints/checkpoint.5.h5\t0.708286\n",
      "checkpoints/checkpoint.24.h5\t0.716789\n",
      "checkpoints/checkpoint.11.h5\t0.726805\n"
     ]
    }
   ],
   "source": [
    "keker.kek(lr=1e-4,\n",
    "          epochs=25,\n",
    "          sched=torch.optim.lr_scheduler.MultiStepLR,       # pytorch lr scheduler class\n",
    "          sched_params={\"milestones\":torch.tensor([12, 20]), \"gamma\": 0.1,},\n",
    "         cp_saver_params={\n",
    "              \"savedir\": \"./checkpoints\",\n",
    "         \"metric\":\"acc\",\n",
    "         \"mode\":'max'})  # schedulres kwargas in dict format"
   ]
  },
  {
   "cell_type": "code",
   "execution_count": 15,
   "metadata": {},
   "outputs": [],
   "source": [
    "torch.save(model.state_dict(), \"checkpoints/weights.pt\")"
   ]
  },
  {
   "cell_type": "code",
   "execution_count": 16,
   "metadata": {},
   "outputs": [
    {
     "name": "stdout",
     "output_type": "stream",
     "text": [
      "Epoch 1/3: 100% 2083/2084 [08:12<00:00,  7.37it/s, loss=0.0035]__________________________________________________\n",
      "Metric computation\n",
      "score 1 (eer): 21.1015262 threshold (?): 0.1394\n",
      "Epoch 1/3: 100% 2084/2084 [08:39<00:00,  4.01it/s, loss=0.0035, val_loss=0.8843, acc=0.7858]\n",
      "Epoch 2/3: 100% 2083/2084 [08:04<00:00,  7.11it/s, loss=0.0093]__________________________________________________\n",
      "Metric computation\n",
      "score 1 (eer): 20.4379562 threshold (?): 0.0706\n",
      "Epoch 2/3: 100% 2084/2084 [08:31<00:00,  4.07it/s, loss=0.0093, val_loss=0.9589, acc=0.7904]\n",
      "Epoch 3/3: 100% 2083/2084 [08:05<00:00,  7.34it/s, loss=0.0050]__________________________________________________\n",
      "Metric computation\n",
      "score 1 (eer): 21.0351692 threshold (?): 0.0199\n",
      "Epoch 3/3: 100% 2084/2084 [08:33<00:00,  4.06it/s, loss=0.0050, val_loss=1.1948, acc=0.7756]\n",
      "\n",
      "Checkpoint\tacc\n",
      "checkpoints/checkpoint.2.h5\t0.790438\n",
      "checkpoints/checkpoint.1.h5\t0.785809\n",
      "checkpoints/checkpoint.3.h5\t0.775557\n"
     ]
    }
   ],
   "source": [
    "keker.kek(lr=1e-5,\n",
    "          epochs=3,\n",
    "         cp_saver_params={\n",
    "              \"savedir\": \"./checkpoints\",\n",
    "         \"metric\":\"acc\",\n",
    "         \"mode\":'max'})  # schedulres kwargas in dict format"
   ]
  },
  {
   "cell_type": "code",
   "execution_count": null,
   "metadata": {},
   "outputs": [
    {
     "name": "stdout",
     "output_type": "stream",
     "text": [
      "Epoch 1/3: 100% 2083/2084 [07:58<00:00,  6.63it/s, loss=0.0091]__________________________________________________\n",
      "Metric computation\n",
      "score 1 (eer): 19.5089582 threshold (?): 0.0397\n",
      "Epoch 1/3: 100% 2084/2084 [08:26<00:00,  4.12it/s, loss=0.0091, val_loss=1.0375, acc=0.7924]\n",
      "Epoch 2/3:  84% 1756/2084 [06:59<01:13,  4.46it/s, loss=0.0020]"
     ]
    }
   ],
   "source": [
    "keker = Keker(model=model,\n",
    "              dataowner=dataowner,\n",
    "              criterion=criterion,\n",
    "              step_fn=step_fn,                    # previosly defined step function\n",
    "              target_key=\"label\",                 # remember, we defined it in the reader_fn for DataKek? \n",
    "              opt=torch.optim.Adam,               # optimizer class. if note specifiyng, \n",
    "                                                  # an SGD is using by default\n",
    "              opt_params={\"weight_decay\": 1e-4},\n",
    "              callbacks=[ScoreCallback('preds', 'label', compute_err)],\n",
    "                 metrics={\"acc\": accuracy})\n",
    "keker.kek(lr=1e-5,\n",
    "          epochs=3,\n",
    "         cp_saver_params={\n",
    "              \"savedir\": \"./checkpoints\",\n",
    "         \"metric\":\"acc\",\n",
    "         \"mode\":'max'})  # schedulres kwargas in dict format"
   ]
  },
  {
   "cell_type": "code",
   "execution_count": null,
   "metadata": {},
   "outputs": [],
   "source": []
  }
 ],
 "metadata": {
  "kernelspec": {
   "display_name": "Python 3",
   "language": "python",
   "name": "python3"
  },
  "language_info": {
   "codemirror_mode": {
    "name": "ipython",
    "version": 3
   },
   "file_extension": ".py",
   "mimetype": "text/x-python",
   "name": "python",
   "nbconvert_exporter": "python",
   "pygments_lexer": "ipython3",
   "version": "3.6.8"
  }
 },
 "nbformat": 4,
 "nbformat_minor": 2
}
