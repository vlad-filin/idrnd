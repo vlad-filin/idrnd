{
 "cells": [
  {
   "cell_type": "code",
   "execution_count": 6,
   "metadata": {},
   "outputs": [],
   "source": [
    "import sys \n",
    "import random\n",
    "import glob\n",
    "random.seed(13)"
   ]
  },
  {
   "cell_type": "code",
   "execution_count": 7,
   "metadata": {},
   "outputs": [],
   "source": [
    "files = glob.glob(\"/media/data/AVSantispoof/ASV2019_humans/human/*flac\")\n",
    "human_asv_paths = ['human/' + f.split(\"/\")[-1] for f in files]"
   ]
  },
  {
   "cell_type": "code",
   "execution_count": 10,
   "metadata": {},
   "outputs": [
    {
     "name": "stdout",
     "output_type": "stream",
     "text": [
      "28890\n"
     ]
    }
   ],
   "source": [
    "print(len(human_asv_paths))"
   ]
  },
  {
   "cell_type": "code",
   "execution_count": 9,
   "metadata": {},
   "outputs": [],
   "source": [
    "with open(\"train_asv.txt\", 'w') as f:\n",
    "    f.write(\"\\n\".join(human_asv_paths))"
   ]
  },
  {
   "cell_type": "code",
   "execution_count": 12,
   "metadata": {},
   "outputs": [
    {
     "name": "stdout",
     "output_type": "stream",
     "text": [
      "10322\n",
      "20644 29356\n"
     ]
    }
   ],
   "source": [
    "files = glob.glob(\"/home/vfilin/Desktop/voice_as_contest/Training_Data/human/*wav\")\n",
    "print(len(files))\n",
    "num_human_val = len(files)\n",
    "val_idrnd_paths = ['human/' + f.split(\"/\")[-1] for f in files]\n",
    "files = glob.glob(\"/home/vfilin/Desktop/voice_as_contest/Training_Data/spoof/*wav\")\n",
    "spoof_paths = ['spoof/' + f.split(\"/\")[-1] for f in files]\n",
    "random.shuffle(spoof_paths)\n",
    "val_idrnd_paths += spoof_paths[:num_human_val]\n",
    "train_idrnd_paths = spoof_paths[num_human_val:]\n",
    "print(len(val_idrnd_paths), len(train_idrnd_paths))"
   ]
  },
  {
   "cell_type": "code",
   "execution_count": 13,
   "metadata": {},
   "outputs": [],
   "source": [
    "with open('val_idrnd.txt', 'w') as f:\n",
    "    f.write(\"\\n\".join(val_idrnd_paths))\n",
    "with open('train_idrnd.txt', 'w') as f:\n",
    "    f.write(\"\\n\".join(train_idrnd_paths))"
   ]
  },
  {
   "cell_type": "code",
   "execution_count": null,
   "metadata": {},
   "outputs": [],
   "source": []
  }
 ],
 "metadata": {
  "kernelspec": {
   "display_name": "Python 3",
   "language": "python",
   "name": "python3"
  },
  "language_info": {
   "codemirror_mode": {
    "name": "ipython",
    "version": 3
   },
   "file_extension": ".py",
   "mimetype": "text/x-python",
   "name": "python",
   "nbconvert_exporter": "python",
   "pygments_lexer": "ipython3",
   "version": "3.6.8"
  }
 },
 "nbformat": 4,
 "nbformat_minor": 2
}
