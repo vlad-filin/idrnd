{
 "cells": [
  {
   "cell_type": "code",
   "execution_count": 1,
   "metadata": {},
   "outputs": [
    {
     "name": "stderr",
     "output_type": "stream",
     "text": [
      "/opt/conda/envs/idrnd/lib/python3.6/site-packages/kekas/keker.py:9: UserWarning: Error 'No module named 'apex''' during importing apex library. To use mixed precison you should install it from https://github.com/NVIDIA/apex\n",
      "  warnings.warn(f\"Error '{e}'' during importing apex library. To use mixed precison\"\n"
     ]
    }
   ],
   "source": [
    "import os\n",
    "os.environ['CUDA_VISIBLE_DEVICES'] = '1'\n",
    "import sys\n",
    "sys.path.insert(0, \"../\")\n",
    "import numpy as np\n",
    "\n",
    "import torch\n",
    "import torch.nn as nn\n",
    "from torch.utils.data import DataLoader\n",
    "from MobileNetV2_torchvision import MobileNetV2\n",
    "from importlib import reload\n",
    "import dataset\n",
    "reload(dataset)\n",
    "from models import TorchVisionNet_with_exctractor\n",
    "import DftSpectrogram_pytorch \n",
    "from dataset import VoiceAntiSpoofDataset\n",
    "from utils import read_fromBaseline, read_scipy\n",
    "from Metrics import compute_err\n",
    "\n",
    "#import DftSpectrogram\n",
    "from librosa.feature import mfcc\n",
    "import glob\n",
    "\n",
    "\n",
    "from kekas import Keker, DataOwner\n",
    "from kekas.callbacks import Callback, ProgressBarCallback\n",
    "from kekas.metrics import accuracy\n",
    "from tensorboardX import SummaryWriter\n"
   ]
  },
  {
   "cell_type": "code",
   "execution_count": 2,
   "metadata": {},
   "outputs": [
    {
     "data": {
      "text/plain": [
       "2225856"
      ]
     },
     "execution_count": 2,
     "metadata": {},
     "output_type": "execute_result"
    }
   ],
   "source": [
    "dft_conf = {\"length\": 512,\n",
    "            \"shift\": 256,\n",
    "            \"nfft\": 512,\n",
    "            \"mode\": 'log',\n",
    "            \"normalize_feature\": True}\n",
    "\n",
    "\n",
    "dft_pytorch = DftSpectrogram_pytorch.DftSpectrogram(**dft_conf)\n",
    "MN2 = MobileNetV2()\n",
    "MN2.classifier[1] = nn.Linear(1280, 2, bias=False)\n",
    "MN2.features[0][0] = nn.Conv2d(1, 32, kernel_size=(3, 3), stride=(2, 2), padding=(1, 1), bias=False)\n",
    "model = TorchVisionNet_with_exctractor(MN2, dft_pytorch).to('cuda')\n",
    "sum(p.numel() for p in model.parameters() if p.requires_grad)"
   ]
  },
  {
   "cell_type": "code",
   "execution_count": 3,
   "metadata": {},
   "outputs": [
    {
     "name": "stdout",
     "output_type": "stream",
     "text": [
      "Num samples: 50000\n",
      "10322 qq\n",
      "39678 qqq\n",
      "1507 qq\n",
      "1507 qqq\n"
     ]
    },
    {
     "data": {
      "text/plain": [
       "(50000, 3014, 50000)"
      ]
     },
     "execution_count": 3,
     "metadata": {},
     "output_type": "execute_result"
    }
   ],
   "source": [
    "dataset_dir = '/home/data/datasets/idrnd/Training_Data/'\n",
    "print(\"Num samples:\", len(glob.glob(os.path.join(dataset_dir, '**/*.wav'), recursive=True)))\n",
    "dataset = VoiceAntiSpoofDataset(dataset_dir, 'all', read_scipy,\n",
    "                                transform=[lambda x: x[None, ...].astype(np.float32)])\n",
    "dataset_val_dir = '/home/data/datasets/idrnd/validationASV/'\n",
    "dataset_val = VoiceAntiSpoofDataset(dataset_val_dir, 'all', read_scipy,\n",
    "                                   transform=[lambda x: x[None, ...].astype(np.float32)])\n",
    "batch_size = 32\n",
    "num_workers = 8\n",
    "#dataset.data = dataset.data[:48] \n",
    "#dataset.labels = dataset.labels[:48]\n",
    "#dataset_val.data = dataset_val.data[:48] + dataset_val.data[-24:]\n",
    "#dataset_val.labels = dataset_val.labels[:48] + dataset_val.labels[-24:]\n",
    "dataloader = DataLoader(dataset, batch_size=batch_size, num_workers=num_workers, shuffle=True)\n",
    "val_dl = DataLoader(dataset_val, batch_size=batch_size, num_workers=num_workers, shuffle=False)\n",
    "len(dataset), len(dataset_val), len(np.unique(dataset.data))"
   ]
  },
  {
   "cell_type": "code",
   "execution_count": 4,
   "metadata": {},
   "outputs": [],
   "source": [
    "dataowner = DataOwner(dataloader, val_dl, None)\n",
    "weights = torch.tensor([5, 1.25])\n",
    "weights = weights / weights.sum()\n",
    "weights = weights.to('cuda')\n",
    "criterion = nn.CrossEntropyLoss(weight=weights)"
   ]
  },
  {
   "cell_type": "code",
   "execution_count": 8,
   "metadata": {},
   "outputs": [],
   "source": [
    "import pdb\n",
    "from pathlib import Path\n",
    "def step_fn(model: torch.nn.Module,\n",
    "            batch: torch.Tensor) -> torch.Tensor:\n",
    "    \"\"\"Determine what your model will do with your data.\n",
    "\n",
    "    Args:\n",
    "        model: the pytorch module to pass input in\n",
    "        batch: the batch of data from the DataLoader\n",
    "\n",
    "    Returns:\n",
    "        The models forward pass results\n",
    "    \"\"\"\n",
    "    \n",
    "    voice = batch['data']\n",
    "    return model(voice)\n",
    "class ScoreCallback(Callback):\n",
    "    def __init__(self, preds_key, target_key, metric_fn, path_to_save='eer_checkpoints',\n",
    "                logdir=\"tensorboard\"):\n",
    "\n",
    "        self.preds_key = preds_key\n",
    "        self.target_key = target_key\n",
    "        self.human_probs_for_human = []\n",
    "        self.human_probs_for_spoof = []\n",
    "        self.softmax = nn.Softmax(dim=1)\n",
    "        self.metric_fn = metric_fn\n",
    "        self.top3_scores = []\n",
    "        self.path = path_to_save\n",
    "        self.logdir = Path(logdir)\n",
    "    def on_train_begin(self, state) -> None:\n",
    "        self.logdir.mkdir(exist_ok=True)\n",
    "        self.val_writer = SummaryWriter(str(self.logdir / \"val_eer\"))\n",
    "\n",
    "        \n",
    "    def on_batch_end(self, i, state) -> None:\n",
    "        if state.core.mode == \"val\":\n",
    "            preds = state.core.out[self.preds_key]\n",
    "            preds = self.softmax(preds).cpu().numpy()\n",
    "            targets = state.core.batch[self.target_key].cpu().numpy()\n",
    "            tmp = preds[targets == 0, 0]\n",
    "            if len(tmp) > 0:\n",
    "                self.human_probs_for_human.append(tmp)\n",
    "            tmp = preds[targets == 1, 0]\n",
    "            if len(tmp) > 0:\n",
    "                self.human_probs_for_spoof.append(tmp)\n",
    "    \n",
    "    def on_epoch_end(self, epoch, state) -> None:\n",
    "        if state.core.mode == \"val\":\n",
    "            print(\"_\"*50)\n",
    "            print(\"Metric computation\")\n",
    "            self.human_probs_for_human = np.hstack(self.human_probs_for_human)\n",
    "            self.human_probs_for_spoof = np.hstack(self.human_probs_for_spoof)\n",
    "            eer, threshold = self.metric_fn(self.human_probs_for_human, self.human_probs_for_spoof)\n",
    "            self.human_probs_for_human = []\n",
    "            self.human_probs_for_spoof = []\n",
    "            print('score 1 (eer): {0:.7f} threshold (?): {1:.4f}'.format(\n",
    "                eer, threshold))\n",
    "            self.val_writer.add_scalar(\"eer\", eer, global_step=epoch)\n",
    "            name = str(round(eer, 4)) + \".\" + str(epoch) + '.pt'\n",
    "            name = os.path.join(self.path, name)\n",
    "            if len(self.top3_scores) < 3:\n",
    "                torch.save(state.core.model.state_dict(), name)\n",
    "                self.top3_scores.append((round(eer, 4), name))\n",
    "                self.top3_scores = sorted(self.top3_scores, key=lambda item: item[0])\n",
    "            else:\n",
    "                if eer < self.top3_scores[0][0]:\n",
    "                    os.remove(self.top3_scores[0][1])\n",
    "                    self.top3_scores.pop(0)\n",
    "                    torch.save(state.core.model.state_dict(), name)\n",
    "                    self.top3_scores.append((round(eer, 4), name))\n",
    "                    self.top3_scores = sorted(self.top3_scores, key=lambda item: item[0])\n",
    "                    \n",
    "def exp_decay(epoch, k=0.1, initial_rate=0.001):\n",
    "    return initial_rate * np.exp(-k * epoch)\n"
   ]
  },
  {
   "cell_type": "code",
   "execution_count": 9,
   "metadata": {},
   "outputs": [],
   "source": [
    "keker = Keker(model=model,\n",
    "              dataowner=dataowner,\n",
    "              criterion=criterion,\n",
    "              step_fn=step_fn,                    # previosly defined step function\n",
    "              target_key=\"label\",                 # remember, we defined it in the reader_fn for DataKek? \n",
    "              opt=torch.optim.Adam,               # optimizer class. if note specifiyng, \n",
    "                                                  # an SGD is using by default\n",
    "              opt_params={\"weight_decay\": 1e-3},\n",
    "              callbacks=[ScoreCallback('preds', 'label', compute_err, 'checkpoints_3rdBL')],\n",
    "                 metrics={\"acc\": accuracy})"
   ]
  },
  {
   "cell_type": "code",
   "execution_count": null,
   "metadata": {},
   "outputs": [
    {
     "name": "stdout",
     "output_type": "stream",
     "text": [
      "Epoch 1/50: 100% 1563/1563 [11:23<00:00,  2.65it/s, loss=0.6925]__________________________________________________\n",
      "Metric computation\n",
      "score 1 (eer): 26.7418713 threshold (?): 0.4946\n",
      "Epoch 1/50: 100% 1563/1563 [11:44<00:00,  2.65it/s, loss=0.6925, val_loss=0.6656, acc=0.7390]\n",
      "Epoch 2/50: 100% 1563/1563 [11:27<00:00,  2.65it/s, loss=0.6781]__________________________________________________\n",
      "Metric computation\n",
      "score 1 (eer): 25.3483743 threshold (?): 0.4974\n",
      "Epoch 2/50: 100% 1563/1563 [11:49<00:00,  2.65it/s, loss=0.6781, val_loss=0.6580, acc=0.7453]\n",
      "Epoch 3/50:  89% 1385/1563 [10:09<01:18,  2.28it/s, loss=0.6703]"
     ]
    }
   ],
   "source": [
    "keker.kek(lr=1e-3,\n",
    "          epochs=50,\n",
    "          sched=torch.optim.lr_scheduler.LambdaLR,       # pytorch lr scheduler class\n",
    "          sched_params={\"lr_lambda\":exp_decay},\n",
    "         cp_saver_params={\n",
    "              \"savedir\": \"./checkpoints_3rdBL\",\n",
    "         \"metric\":\"acc\",\n",
    "         \"mode\":'max'})  # schedulres kwargas in dict format"
   ]
  },
  {
   "cell_type": "code",
   "execution_count": 10,
   "metadata": {},
   "outputs": [],
   "source": [
    "keker.load(\"checkpoints_colab/checkpoint.24.h5\")\n"
   ]
  },
  {
   "cell_type": "code",
   "execution_count": 11,
   "metadata": {},
   "outputs": [],
   "source": [
    "torch.save(model.state_dict(), \"checkpoints_colab/weights24.pt\")"
   ]
  },
  {
   "cell_type": "code",
   "execution_count": 16,
   "metadata": {},
   "outputs": [
    {
     "name": "stdout",
     "output_type": "stream",
     "text": [
      "Epoch 1/3: 100% 2083/2084 [08:12<00:00,  7.37it/s, loss=0.0035]__________________________________________________\n",
      "Metric computation\n",
      "score 1 (eer): 21.1015262 threshold (?): 0.1394\n",
      "Epoch 1/3: 100% 2084/2084 [08:39<00:00,  4.01it/s, loss=0.0035, val_loss=0.8843, acc=0.7858]\n",
      "Epoch 2/3: 100% 2083/2084 [08:04<00:00,  7.11it/s, loss=0.0093]__________________________________________________\n",
      "Metric computation\n",
      "score 1 (eer): 20.4379562 threshold (?): 0.0706\n",
      "Epoch 2/3: 100% 2084/2084 [08:31<00:00,  4.07it/s, loss=0.0093, val_loss=0.9589, acc=0.7904]\n",
      "Epoch 3/3: 100% 2083/2084 [08:05<00:00,  7.34it/s, loss=0.0050]__________________________________________________\n",
      "Metric computation\n",
      "score 1 (eer): 21.0351692 threshold (?): 0.0199\n",
      "Epoch 3/3: 100% 2084/2084 [08:33<00:00,  4.06it/s, loss=0.0050, val_loss=1.1948, acc=0.7756]\n",
      "\n",
      "Checkpoint\tacc\n",
      "checkpoints/checkpoint.2.h5\t0.790438\n",
      "checkpoints/checkpoint.1.h5\t0.785809\n",
      "checkpoints/checkpoint.3.h5\t0.775557\n"
     ]
    }
   ],
   "source": [
    "keker.kek(lr=1e-5,\n",
    "          epochs=3,\n",
    "         cp_saver_params={\n",
    "              \"savedir\": \"./checkpoints\",\n",
    "         \"metric\":\"acc\",\n",
    "         \"mode\":'max'})  # schedulres kwargas in dict format"
   ]
  },
  {
   "cell_type": "code",
   "execution_count": 17,
   "metadata": {},
   "outputs": [
    {
     "name": "stdout",
     "output_type": "stream",
     "text": [
      "Epoch 1/3: 100% 2083/2084 [07:58<00:00,  6.63it/s, loss=0.0091]__________________________________________________\n",
      "Metric computation\n",
      "score 1 (eer): 19.5089582 threshold (?): 0.0397\n",
      "Epoch 1/3: 100% 2084/2084 [08:26<00:00,  4.12it/s, loss=0.0091, val_loss=1.0375, acc=0.7924]\n",
      "Epoch 2/3: 100% 2083/2084 [08:10<00:00,  7.18it/s, loss=0.0087]__________________________________________________\n",
      "Metric computation\n",
      "score 1 (eer): 18.5799602 threshold (?): 0.0120\n",
      "Epoch 2/3: 100% 2084/2084 [08:36<00:00,  4.03it/s, loss=0.0087, val_loss=1.1162, acc=0.7994]\n",
      "Epoch 3/3:   2% 51/2084 [00:15<09:58,  3.40it/s, loss=0.0059] \n"
     ]
    },
    {
     "ename": "KeyboardInterrupt",
     "evalue": "",
     "output_type": "error",
     "traceback": [
      "\u001b[0;31m---------------------------------------------------------------------------\u001b[0m",
      "\u001b[0;31mKeyboardInterrupt\u001b[0m                         Traceback (most recent call last)",
      "\u001b[0;32m<ipython-input-17-53301a639808>\u001b[0m in \u001b[0;36m<module>\u001b[0;34m\u001b[0m\n\u001b[1;32m     14\u001b[0m               \u001b[0;34m\"savedir\"\u001b[0m\u001b[0;34m:\u001b[0m \u001b[0;34m\"./checkpoints\"\u001b[0m\u001b[0;34m,\u001b[0m\u001b[0;34m\u001b[0m\u001b[0;34m\u001b[0m\u001b[0m\n\u001b[1;32m     15\u001b[0m          \u001b[0;34m\"metric\"\u001b[0m\u001b[0;34m:\u001b[0m\u001b[0;34m\"acc\"\u001b[0m\u001b[0;34m,\u001b[0m\u001b[0;34m\u001b[0m\u001b[0;34m\u001b[0m\u001b[0m\n\u001b[0;32m---> 16\u001b[0;31m          \"mode\":'max'})  # schedulres kwargas in dict format\n\u001b[0m",
      "\u001b[0;32m~/anaconda3/envs/idrnd/lib/python3.6/site-packages/kekas/keker.py\u001b[0m in \u001b[0;36mkek\u001b[0;34m(self, lr, epochs, skip_val, opt, opt_params, sched, sched_params, stop_iter, logdir, cp_saver_params, early_stop_params)\u001b[0m\n\u001b[1;32m    276\u001b[0m             \u001b[0;32mfor\u001b[0m \u001b[0mepoch\u001b[0m \u001b[0;32min\u001b[0m \u001b[0mrange\u001b[0m\u001b[0;34m(\u001b[0m\u001b[0mepochs\u001b[0m\u001b[0;34m)\u001b[0m\u001b[0;34m:\u001b[0m\u001b[0;34m\u001b[0m\u001b[0;34m\u001b[0m\u001b[0m\n\u001b[1;32m    277\u001b[0m                 \u001b[0mself\u001b[0m\u001b[0;34m.\u001b[0m\u001b[0mset_mode\u001b[0m\u001b[0;34m(\u001b[0m\u001b[0;34m\"train\"\u001b[0m\u001b[0;34m)\u001b[0m\u001b[0;34m\u001b[0m\u001b[0;34m\u001b[0m\u001b[0m\n\u001b[0;32m--> 278\u001b[0;31m                 \u001b[0mself\u001b[0m\u001b[0;34m.\u001b[0m\u001b[0m_run_epoch\u001b[0m\u001b[0;34m(\u001b[0m\u001b[0mepoch\u001b[0m\u001b[0;34m,\u001b[0m \u001b[0mepochs\u001b[0m\u001b[0;34m)\u001b[0m\u001b[0;34m\u001b[0m\u001b[0;34m\u001b[0m\u001b[0m\n\u001b[0m\u001b[1;32m    279\u001b[0m \u001b[0;34m\u001b[0m\u001b[0m\n\u001b[1;32m    280\u001b[0m                 \u001b[0;32mif\u001b[0m \u001b[0;32mnot\u001b[0m \u001b[0mskip_val\u001b[0m\u001b[0;34m:\u001b[0m\u001b[0;34m\u001b[0m\u001b[0;34m\u001b[0m\u001b[0m\n",
      "\u001b[0;32m~/anaconda3/envs/idrnd/lib/python3.6/site-packages/kekas/keker.py\u001b[0m in \u001b[0;36m_run_epoch\u001b[0;34m(self, epoch, epochs)\u001b[0m\n\u001b[1;32m    432\u001b[0m                 \u001b[0mself\u001b[0m\u001b[0;34m.\u001b[0m\u001b[0mstate\u001b[0m\u001b[0;34m.\u001b[0m\u001b[0mcore\u001b[0m\u001b[0;34m.\u001b[0m\u001b[0mout\u001b[0m \u001b[0;34m=\u001b[0m \u001b[0mself\u001b[0m\u001b[0;34m.\u001b[0m\u001b[0mstep\u001b[0m\u001b[0;34m(\u001b[0m\u001b[0;34m)\u001b[0m\u001b[0;34m\u001b[0m\u001b[0;34m\u001b[0m\u001b[0m\n\u001b[1;32m    433\u001b[0m \u001b[0;34m\u001b[0m\u001b[0m\n\u001b[0;32m--> 434\u001b[0;31m                 \u001b[0mself\u001b[0m\u001b[0;34m.\u001b[0m\u001b[0mcallbacks\u001b[0m\u001b[0;34m.\u001b[0m\u001b[0mon_batch_end\u001b[0m\u001b[0;34m(\u001b[0m\u001b[0mi\u001b[0m\u001b[0;34m,\u001b[0m \u001b[0mself\u001b[0m\u001b[0;34m.\u001b[0m\u001b[0mstate\u001b[0m\u001b[0;34m)\u001b[0m\u001b[0;34m\u001b[0m\u001b[0;34m\u001b[0m\u001b[0m\n\u001b[0m\u001b[1;32m    435\u001b[0m \u001b[0;34m\u001b[0m\u001b[0m\n\u001b[1;32m    436\u001b[0m                 if (self.state.core.stop_iter and self.state.core.mode == \"train\"\n",
      "\u001b[0;32m~/anaconda3/envs/idrnd/lib/python3.6/site-packages/kekas/callbacks.py\u001b[0m in \u001b[0;36mon_batch_end\u001b[0;34m(self, i, state)\u001b[0m\n\u001b[1;32m     58\u001b[0m     \u001b[0;32mdef\u001b[0m \u001b[0mon_batch_end\u001b[0m\u001b[0;34m(\u001b[0m\u001b[0mself\u001b[0m\u001b[0;34m,\u001b[0m \u001b[0mi\u001b[0m\u001b[0;34m:\u001b[0m \u001b[0mint\u001b[0m\u001b[0;34m,\u001b[0m \u001b[0mstate\u001b[0m\u001b[0;34m:\u001b[0m \u001b[0mDotDict\u001b[0m\u001b[0;34m)\u001b[0m \u001b[0;34m->\u001b[0m \u001b[0;32mNone\u001b[0m\u001b[0;34m:\u001b[0m\u001b[0;34m\u001b[0m\u001b[0;34m\u001b[0m\u001b[0m\n\u001b[1;32m     59\u001b[0m         \u001b[0;32mfor\u001b[0m \u001b[0mcb\u001b[0m \u001b[0;32min\u001b[0m \u001b[0mself\u001b[0m\u001b[0;34m.\u001b[0m\u001b[0mcallbacks\u001b[0m\u001b[0;34m:\u001b[0m\u001b[0;34m\u001b[0m\u001b[0;34m\u001b[0m\u001b[0m\n\u001b[0;32m---> 60\u001b[0;31m             \u001b[0mcb\u001b[0m\u001b[0;34m.\u001b[0m\u001b[0mon_batch_end\u001b[0m\u001b[0;34m(\u001b[0m\u001b[0mi\u001b[0m\u001b[0;34m,\u001b[0m \u001b[0mstate\u001b[0m\u001b[0;34m)\u001b[0m\u001b[0;34m\u001b[0m\u001b[0;34m\u001b[0m\u001b[0m\n\u001b[0m\u001b[1;32m     61\u001b[0m \u001b[0;34m\u001b[0m\u001b[0m\n\u001b[1;32m     62\u001b[0m     \u001b[0;32mdef\u001b[0m \u001b[0mon_epoch_begin\u001b[0m\u001b[0;34m(\u001b[0m\u001b[0mself\u001b[0m\u001b[0;34m,\u001b[0m \u001b[0mepoch\u001b[0m\u001b[0;34m:\u001b[0m \u001b[0mint\u001b[0m\u001b[0;34m,\u001b[0m \u001b[0mepochs\u001b[0m\u001b[0;34m:\u001b[0m \u001b[0mint\u001b[0m\u001b[0;34m,\u001b[0m \u001b[0mstate\u001b[0m\u001b[0;34m:\u001b[0m \u001b[0mDotDict\u001b[0m\u001b[0;34m)\u001b[0m \u001b[0;34m->\u001b[0m \u001b[0;32mNone\u001b[0m\u001b[0;34m:\u001b[0m\u001b[0;34m\u001b[0m\u001b[0;34m\u001b[0m\u001b[0m\n",
      "\u001b[0;32m~/anaconda3/envs/idrnd/lib/python3.6/site-packages/kekas/callbacks.py\u001b[0m in \u001b[0;36mon_batch_end\u001b[0;34m(self, i, state)\u001b[0m\n\u001b[1;32m    306\u001b[0m             \u001b[0;32melse\u001b[0m\u001b[0;34m:\u001b[0m\u001b[0;34m\u001b[0m\u001b[0;34m\u001b[0m\u001b[0m\n\u001b[1;32m    307\u001b[0m                 \u001b[0mstate\u001b[0m\u001b[0;34m.\u001b[0m\u001b[0mcore\u001b[0m\u001b[0;34m.\u001b[0m\u001b[0mloss\u001b[0m\u001b[0;34m.\u001b[0m\u001b[0mbackward\u001b[0m\u001b[0;34m(\u001b[0m\u001b[0;34m)\u001b[0m\u001b[0;34m\u001b[0m\u001b[0;34m\u001b[0m\u001b[0m\n\u001b[0;32m--> 308\u001b[0;31m             \u001b[0mstate\u001b[0m\u001b[0;34m.\u001b[0m\u001b[0mcore\u001b[0m\u001b[0;34m.\u001b[0m\u001b[0mopt\u001b[0m\u001b[0;34m.\u001b[0m\u001b[0mstep\u001b[0m\u001b[0;34m(\u001b[0m\u001b[0;34m)\u001b[0m\u001b[0;34m\u001b[0m\u001b[0;34m\u001b[0m\u001b[0m\n\u001b[0m\u001b[1;32m    309\u001b[0m \u001b[0;34m\u001b[0m\u001b[0m\n\u001b[1;32m    310\u001b[0m \u001b[0;34m\u001b[0m\u001b[0m\n",
      "\u001b[0;32m~/anaconda3/envs/idrnd/lib/python3.6/site-packages/torch/optim/adam.py\u001b[0m in \u001b[0;36mstep\u001b[0;34m(self, closure)\u001b[0m\n\u001b[1;32m     99\u001b[0m                     \u001b[0mdenom\u001b[0m \u001b[0;34m=\u001b[0m \u001b[0mmax_exp_avg_sq\u001b[0m\u001b[0;34m.\u001b[0m\u001b[0msqrt\u001b[0m\u001b[0;34m(\u001b[0m\u001b[0;34m)\u001b[0m\u001b[0;34m.\u001b[0m\u001b[0madd_\u001b[0m\u001b[0;34m(\u001b[0m\u001b[0mgroup\u001b[0m\u001b[0;34m[\u001b[0m\u001b[0;34m'eps'\u001b[0m\u001b[0;34m]\u001b[0m\u001b[0;34m)\u001b[0m\u001b[0;34m\u001b[0m\u001b[0;34m\u001b[0m\u001b[0m\n\u001b[1;32m    100\u001b[0m                 \u001b[0;32melse\u001b[0m\u001b[0;34m:\u001b[0m\u001b[0;34m\u001b[0m\u001b[0;34m\u001b[0m\u001b[0m\n\u001b[0;32m--> 101\u001b[0;31m                     \u001b[0mdenom\u001b[0m \u001b[0;34m=\u001b[0m \u001b[0mexp_avg_sq\u001b[0m\u001b[0;34m.\u001b[0m\u001b[0msqrt\u001b[0m\u001b[0;34m(\u001b[0m\u001b[0;34m)\u001b[0m\u001b[0;34m.\u001b[0m\u001b[0madd_\u001b[0m\u001b[0;34m(\u001b[0m\u001b[0mgroup\u001b[0m\u001b[0;34m[\u001b[0m\u001b[0;34m'eps'\u001b[0m\u001b[0;34m]\u001b[0m\u001b[0;34m)\u001b[0m\u001b[0;34m\u001b[0m\u001b[0;34m\u001b[0m\u001b[0m\n\u001b[0m\u001b[1;32m    102\u001b[0m \u001b[0;34m\u001b[0m\u001b[0m\n\u001b[1;32m    103\u001b[0m                 \u001b[0mbias_correction1\u001b[0m \u001b[0;34m=\u001b[0m \u001b[0;36m1\u001b[0m \u001b[0;34m-\u001b[0m \u001b[0mbeta1\u001b[0m \u001b[0;34m**\u001b[0m \u001b[0mstate\u001b[0m\u001b[0;34m[\u001b[0m\u001b[0;34m'step'\u001b[0m\u001b[0;34m]\u001b[0m\u001b[0;34m\u001b[0m\u001b[0;34m\u001b[0m\u001b[0m\n",
      "\u001b[0;31mKeyboardInterrupt\u001b[0m: "
     ]
    }
   ],
   "source": [
    "keker = Keker(model=model,\n",
    "              dataowner=dataowner,\n",
    "              criterion=criterion,\n",
    "              step_fn=step_fn,                    # previosly defined step function\n",
    "              target_key=\"label\",                 # remember, we defined it in the reader_fn for DataKek? \n",
    "              opt=torch.optim.Adam,               # optimizer class. if note specifiyng, \n",
    "                                                  # an SGD is using by default\n",
    "              opt_params={\"weight_decay\": 1e-4},\n",
    "              callbacks=[ScoreCallback('preds', 'label', compute_err)],\n",
    "                 metrics={\"acc\": accuracy})\n",
    "keker.kek(lr=1e-5,\n",
    "          epochs=3,\n",
    "         cp_saver_params={\n",
    "              \"savedir\": \"./checkpoints\",\n",
    "         \"metric\":\"acc\",\n",
    "         \"mode\":'max'})  # schedulres kwargas in dict format"
   ]
  },
  {
   "cell_type": "code",
   "execution_count": null,
   "metadata": {},
   "outputs": [],
   "source": []
  }
 ],
 "metadata": {
  "kernelspec": {
   "display_name": "Python 3",
   "language": "python",
   "name": "python3"
  },
  "language_info": {
   "codemirror_mode": {
    "name": "ipython",
    "version": 3
   },
   "file_extension": ".py",
   "mimetype": "text/x-python",
   "name": "python",
   "nbconvert_exporter": "python",
   "pygments_lexer": "ipython3",
   "version": "3.6.8"
  }
 },
 "nbformat": 4,
 "nbformat_minor": 2
}
