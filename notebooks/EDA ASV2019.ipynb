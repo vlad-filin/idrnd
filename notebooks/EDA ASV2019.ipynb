{
 "cells": [
  {
   "cell_type": "code",
   "execution_count": 1,
   "metadata": {},
   "outputs": [],
   "source": [
    "import numpy as np\n",
    "import librosa\n",
    "from scipy.io import wavfile\n",
    "import matplotlib.pyplot as plt\n",
    "%matplotlib inline\n",
    "import glob\n",
    "import soundfile as sf\n",
    "from tqdm import tqdm_notebook as tqdm"
   ]
  },
  {
   "cell_type": "code",
   "execution_count": 2,
   "metadata": {},
   "outputs": [],
   "source": [
    "def read_test(wav_path):\n",
    "    try:\n",
    "        sr, x = wavfile.read(wav_path)\n",
    "        assert sr == 16000\n",
    "        return x / np.max(np.abs(x))\n",
    "    except Exception as e:\n",
    "        print(\"Error with getting feature from %s: %s\" % (wav_path, str(e)))\n",
    "        return None\n",
    "def read_scipy(wav_path, length=100000):\n",
    "    try:\n",
    "        sr, x = wavfile.read(wav_path)\n",
    "        assert sr == 16000\n",
    "        if length > len(x):\n",
    "            x = np.concatenate([x] * int(np.ceil(length/len(x))))\n",
    "        feature = x[:length]\n",
    "        return feature / np.max(np.abs(feature))\n",
    "    except Exception as e:\n",
    "        print(\"Error with getting feature from %s: %s\" % (wav_path, str(e)))\n",
    "        return None\n",
    "def universe_reader(file_path, length=None):\n",
    "    if '.flac' in file_path:\n",
    "        try:\n",
    "            x, sr = sf.read(file_path)                                            \n",
    "            assert sr == 16000\n",
    "            if length is not None and length > len(x):\n",
    "                x = np.concatenate([x] * int(np.ceil(length/len(x))))\n",
    "            else:\n",
    "                length = len(x)\n",
    "            feature = x[:length]\n",
    "            return feature / np.max(np.abs(feature))\n",
    "        except Exception as e:\n",
    "            print(\"Error with getting feature from %s: %s\" % (file_path, str(e)))\n",
    "            return None\n",
    "    elif \".wav\" in file_path:\n",
    "        try:\n",
    "            sr, x = wavfile.read(file_path)\n",
    "            assert sr == 16000\n",
    "            if length is not None and length > len(x):\n",
    "                x = np.concatenate([x] * int(np.ceil(length/len(x))))\n",
    "            else:\n",
    "                length = len(x)\n",
    "            feature = x[:length]\n",
    "            return feature / np.max(np.abs(feature))\n",
    "        except Exception as e:\n",
    "            print(\"Error with getting feature from %s: %s\" % (file_path, str(e)))\n",
    "            return None\n",
    "    else:\n",
    "        raise NotImplementedError(\"Only wav and flac formats supported, file_path=\" + file_path)"
   ]
  },
  {
   "cell_type": "code",
   "execution_count": 3,
   "metadata": {},
   "outputs": [],
   "source": [
    "files = glob.glob(\"/media/data/AVSantispoof/ASV2019_humans/*flac\")\n",
    "wav_files = glob.glob(\"/home/vfilin/Desktop/voice_as_contest/Training_Data/human/*wav\")\n",
    "wav_spoof_files =  glob.glob(\"/home/vfilin/Desktop/voice_as_contest/Training_Data/spoof/*wav\")"
   ]
  },
  {
   "cell_type": "code",
   "execution_count": 4,
   "metadata": {},
   "outputs": [
    {
     "data": {
      "text/plain": [
       "(28890, 10322, 39678)"
      ]
     },
     "execution_count": 4,
     "metadata": {},
     "output_type": "execute_result"
    }
   ],
   "source": [
    "len(files), len(wav_files), len(wav_spoof_files)"
   ]
  },
  {
   "cell_type": "code",
   "execution_count": 5,
   "metadata": {},
   "outputs": [
    {
     "data": {
      "application/vnd.jupyter.widget-view+json": {
       "model_id": "70db74c445db4f99970437109cdb7453",
       "version_major": 2,
       "version_minor": 0
      },
      "text/plain": [
       "HBox(children=(IntProgress(value=0, max=28890), HTML(value='')))"
      ]
     },
     "metadata": {},
     "output_type": "display_data"
    },
    {
     "name": "stdout",
     "output_type": "stream",
     "text": [
      "\n"
     ]
    }
   ],
   "source": [
    "flac_len = []\n",
    "for fp in tqdm(files):\n",
    "    data = universe_reader(fp)\n",
    "    flac_len.append(len(data))"
   ]
  },
  {
   "cell_type": "code",
   "execution_count": 6,
   "metadata": {},
   "outputs": [
    {
     "data": {
      "application/vnd.jupyter.widget-view+json": {
       "model_id": "6320c882fcb14330af95f2dba62696bc",
       "version_major": 2,
       "version_minor": 0
      },
      "text/plain": [
       "HBox(children=(IntProgress(value=0, max=10322), HTML(value='')))"
      ]
     },
     "metadata": {},
     "output_type": "display_data"
    },
    {
     "name": "stdout",
     "output_type": "stream",
     "text": [
      "\n"
     ]
    }
   ],
   "source": [
    "wav_len = []\n",
    "for fp in tqdm(wav_files):\n",
    "    data = universe_reader(fp)\n",
    "    wav_len.append(len(data))"
   ]
  },
  {
   "cell_type": "code",
   "execution_count": 7,
   "metadata": {},
   "outputs": [
    {
     "data": {
      "text/plain": [
       "(array([ 768., 5506., 8787., 7094., 3942., 1686.,  626.,  277.,  151.,\n",
       "          53.]),\n",
       " array([ 23311.,  35926.,  48541.,  61156.,  73771.,  86386.,  99001.,\n",
       "        111616., 124231., 136846., 149461.]),\n",
       " <a list of 10 Patch objects>)"
      ]
     },
     "execution_count": 7,
     "metadata": {},
     "output_type": "execute_result"
    },
    {
     "data": {
      "image/png": "[encoded data removed]",
      "text/plain": [
       "<Figure size 432x288 with 1 Axes>"
      ]
     },
     "metadata": {
      "needs_background": "light"
     },
     "output_type": "display_data"
    }
   ],
   "source": [
    "plt.hist(flac_len)"
   ]
  },
  {
   "cell_type": "code",
   "execution_count": 8,
   "metadata": {},
   "outputs": [
    {
     "data": {
      "text/plain": [
       "(array([4922., 1873., 1033.,  511.,  325.,  233.,  171.,  156.,  228.,\n",
       "         870.]),\n",
       " array([ 40320.,  52512.,  64704.,  76896.,  89088., 101280., 113472.,\n",
       "        125664., 137856., 150048., 162240.]),\n",
       " <a list of 10 Patch objects>)"
      ]
     },
     "execution_count": 8,
     "metadata": {},
     "output_type": "execute_result"
    },
    {
     "data": {
      "image/png": "[encoded data removed]",
      "text/plain": [
       "<Figure size 432x288 with 1 Axes>"
      ]
     },
     "metadata": {
      "needs_background": "light"
     },
     "output_type": "display_data"
    }
   ],
   "source": [
    "plt.hist(wav_len)"
   ]
  },
  {
   "cell_type": "code",
   "execution_count": null,
   "metadata": {},
   "outputs": [],
   "source": [
    "1+1"
   ]
  },
  {
   "cell_type": "code",
   "execution_count": null,
   "metadata": {},
   "outputs": [],
   "source": []
  }
 ],
 "metadata": {
  "kernelspec": {
   "display_name": "Python 3",
   "language": "python",
   "name": "python3"
  },
  "language_info": {
   "codemirror_mode": {
    "name": "ipython",
    "version": 3
   },
   "file_extension": ".py",
   "mimetype": "text/x-python",
   "name": "python",
   "nbconvert_exporter": "python",
   "pygments_lexer": "ipython3",
   "version": "3.6.8"
  }
 },
 "nbformat": 4,
 "nbformat_minor": 2
}
